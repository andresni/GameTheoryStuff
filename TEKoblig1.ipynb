{
  "nbformat": 4,
  "nbformat_minor": 0,
  "metadata": {
    "colab": {
      "name": "TEKoblig1.ipynb",
      "provenance": [],
      "include_colab_link": true
    },
    "kernelspec": {
      "name": "python3",
      "display_name": "Python 3"
    }
  },
  "cells": [
    {
      "cell_type": "markdown",
      "metadata": {
        "id": "view-in-github",
        "colab_type": "text"
      },
      "source": [
        "<a href=\"https://colab.research.google.com/github/andresni/GameTheoryStuff/blob/master/TEKoblig1.ipynb\" target=\"_parent\"><img src=\"https://colab.research.google.com/assets/colab-badge.svg\" alt=\"Open In Colab\"/></a>"
      ]
    },
    {
      "cell_type": "markdown",
      "metadata": {
        "id": "iCFSpACQK02U",
        "colab_type": "text"
      },
      "source": [
        "#This is a notebook for Oblig 1 in TEK9010\n",
        "Before we start this fun excercise, we need to import some modules for later use."
      ]
    },
    {
      "cell_type": "code",
      "metadata": {
        "id": "MWckmTccJo0b",
        "colab_type": "code",
        "colab": {}
      },
      "source": [
        "import numpy as np\n",
        "import matplotlib.pyplot as plt\n",
        "import scipy.signal as ss\n",
        "import scipy.stats as sct\n",
        "import copy"
      ],
      "execution_count": 0,
      "outputs": []
    },
    {
      "cell_type": "markdown",
      "metadata": {
        "id": "gLvGs-x4LU4Z",
        "colab_type": "text"
      },
      "source": [
        "With that out of the way, let's detail some of the background information for the tasks to follow.\n",
        "1. Many people in an area (1D, 2D, or 3D) wants to connect to the internet.\n",
        "2. Mobile drones fly in the air providing internet.\n",
        "3. The people want to connect to the drone closest to them as it has the highest signal power.\n",
        "4. The drones wants to have the most people connected to them, because that feels good.\n",
        "\n",
        "Let's start with question 1, a game theoretic analysis with a starting point in Hotelling's 1929 paper.\n",
        "\n",
        "1) Hotelling investigates how duopolies operate, specifically their location, in a 1 dimensional world. He argues that if we assume an even spread of demand along an axis, and two competitors who want to maximize their profits, then they want to have their location so as to maximize potential customers, and adjusting prices accordingly. \n",
        "\n",
        "Customers in Hotelling's scenario care about distance to company as that costs them less utility (i.e. transport cost, energy, comfort) and price of product. Simply, if price+distance company A > price+distance company B, then they'll go to company A.\n",
        "\n",
        "In the drone scenario outlined above, location is the only relevant parameter.\n",
        "\n",
        "\n",
        "\n",
        "This gives the following parameters:\n"
      ]
    },
    {
      "cell_type": "code",
      "metadata": {
        "id": "zD10vykdMk_f",
        "colab_type": "code",
        "colab": {}
      },
      "source": [
        "nrD = 2 # Number of drones\n",
        "nrP = 100 # Number of people\n",
        "area = [100] # Size of area in each dimension\n",
        "\n",
        "class drone: # A drone\n",
        "  def __init__(self, location):\n",
        "    self.location = location # The drone's current location in the xD grid\n",
        "    self.users = 0 # Number of users connected to the drone\n",
        "\n",
        "  def move(self,direction=[0]): # A function that moves the drone\n",
        "    self.location = np.add(self.location, direction)"
      ],
      "execution_count": 0,
      "outputs": []
    },
    {
      "cell_type": "code",
      "metadata": {
        "id": "EK4z6cuyN_Pp",
        "colab_type": "code",
        "colab": {
          "base_uri": "https://localhost:8080/",
          "height": 51
        },
        "outputId": "c8150a53-eefa-426c-ed98-ec279eb489c8"
      },
      "source": [
        "a=[1,2,3]\n",
        "b=[2,2,2]\n",
        "print(a)\n",
        "a=np.add(a,b)\n",
        "print(a)"
      ],
      "execution_count": 4,
      "outputs": [
        {
          "output_type": "stream",
          "text": [
            "[1, 2, 3]\n",
            "[3 4 5]\n"
          ],
          "name": "stdout"
        }
      ]
    },
    {
      "cell_type": "markdown",
      "metadata": {
        "id": "UjFDAFuaMliu",
        "colab_type": "text"
      },
      "source": [
        "\n",
        "\n",
        "let's start with the first question: *How could Hotelling's famous 1929 paper be a good starting point for a game theoretic analysis of the drone problem*?\n",
        "\n",
        "First, "
      ]
    }
  ]
}