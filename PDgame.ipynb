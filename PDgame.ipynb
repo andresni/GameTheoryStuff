{
 "cells": [
  {
   "cell_type": "markdown",
   "metadata": {},
   "source": [
    "# Prisoners Dilemma"
   ]
  },
  {
   "cell_type": "markdown",
   "metadata": {},
   "source": [
    "First we need imports"
   ]
  },
  {
   "cell_type": "code",
   "execution_count": null,
   "metadata": {
    "collapsed": false
   },
   "outputs": [],
   "source": [
    "import numpy as np\n",
    "import time\n",
    "from ipywidgets import FloatProgress\n",
    "from IPython.display import display"
   ]
  },
  {
   "cell_type": "markdown",
   "metadata": {},
   "source": [
    "Then we will need to define the whole bot class. It will work by having a set of parameters that take percentage values, and their various combinations define the multiple various strategies a bot in the game #prisoners dilemma# can take. Most common strategies can be implemented through this method. A few examples will be detailed below."
   ]
  },
  {
   "cell_type": "code",
   "execution_count": null,
   "metadata": {
    "collapsed": false
   },
   "outputs": [],
   "source": [
    "class bot(object):\n",
    "    def __init__(self,params):\n",
    "        # Bot behavior parameters\n",
    "        self.PC = params[\"PC\"]\n",
    "        self.PCorg = params[\"PC\"]\n",
    "        self.MS = params[\"MS\"]\n",
    "        self.MD = params[\"MD\"]\n",
    "        self.LS = params[\"LS\"]\n",
    "        self.LD = params[\"LD\"]\n",
    "        self.R  = params[\"R\"]\n",
    "        # Record keeping variables\n",
    "        self.score = 0 # Average \"money\" made\n",
    "        self.wins = 0 # Average number of wins (rounds)\n",
    "        self.games_played = 0 # Rounds played\n",
    "        \n",
    "        self.name = params[\"name\"]\n",
    "        \n",
    "    def getScore(self): # Get data\n",
    "        return self.score, self.wins\n",
    "    \n",
    "    def getParams(self):\n",
    "        return {\"PC\":self.PCorg,\n",
    "                \"MS\":self.MS,\n",
    "                \"MD\":self.MD,\n",
    "                \"LS\":self.LS,\n",
    "                \"LD\":self.LD,\n",
    "                \"R\":self.R}\n",
    "    \n",
    "    def getName(self):\n",
    "        return self.name\n",
    "    \n",
    "    def updateScore(self,result,win): # Update the bots personal records like score and wins\n",
    "        self.score = ((self.score * self.games_played) + result)/(self.games_played +1)\n",
    "        self.wins = ((self.wins * self.games_played) + win)/(self.games_played +1)\n",
    "        self.games_played = self.games_played + 1\n",
    "        \n",
    "    def play(self,c): # Implement strategy, c is the other bots previous choice\n",
    "        M=self.MS if c==1 else self.MD\n",
    "        L=self.LS if c==1 else self.LD\n",
    "        self.PC = self.PC - (L*(self.PC - M))\n",
    "        \n",
    "    def strategy(self,c=None): # The bots strategy.\n",
    "        if c: # if not first round\n",
    "            self.play(c) # implement strategy\n",
    "        else:\n",
    "            self.PC = self.PCorg\n",
    "        \n",
    "        if (np.random.rand() < self.PC) == (np.random.rand() > self.R): # Implement the randomness in the choice.\n",
    "            return 0 # Steal\n",
    "        else:\n",
    "            return 1 # Deal"
   ]
  },
  {
   "cell_type": "markdown",
   "metadata": {},
   "source": [
    "Now we create a small function that creates random parameters for bots to use."
   ]
  },
  {
   "cell_type": "code",
   "execution_count": null,
   "metadata": {
    "collapsed": true
   },
   "outputs": [],
   "source": [
    "def randParams():\n",
    "    params = {\"PC\":np.random.rand()*100,\n",
    "              \"MS\":np.random.rand()*100,\n",
    "              \"MD\":np.random.rand()*100,\n",
    "              \"LS\":np.random.rand()*100,\n",
    "              \"LD\":np.random.rand()*100,\n",
    "              \"R\" :np.random.rand()*100,}\n",
    "    params.update({\"name\":\"{}-{}-{}-{}-{}-{}\".format(int(params[\"PC\"]),int(params[\"MS\"]),int(params[\"MD\"]),int(params[\"LS\"]),int(params[\"LD\"]),int(params[\"R\"]))})\n",
    "    return params"
   ]
  },
  {
   "cell_type": "markdown",
   "metadata": {},
   "source": [
    "Now we need to make the little simulator engine that takes two random bots, and lets them battle against each other."
   ]
  },
  {
   "cell_type": "code",
   "execution_count": null,
   "metadata": {
    "collapsed": true
   },
   "outputs": [],
   "source": [
    "def game(a,b,r,payoff): # a = bot a, b = bot b, r = number of rounds\n",
    "    ca=None\n",
    "    cb=None\n",
    "    for i in range(r):\n",
    "        ca = a.strategy(ca)\n",
    "        cb = b.strategy(cb)\n",
    "        w = 0.5 if cb==ca else ca<cb\n",
    "        a.updateScore(payoff[ca][cb][0],w)\n",
    "        b.updateScore(payoff[ca][cb][1],1-w)"
   ]
  },
  {
   "cell_type": "markdown",
   "metadata": {},
   "source": [
    "Now we need to make a little function that selects bots"
   ]
  },
  {
   "cell_type": "code",
   "execution_count": null,
   "metadata": {
    "collapsed": true
   },
   "outputs": [],
   "source": [
    "def select(botlist):\n",
    "    return np.random.choice(botlist,2,replace=False)"
   ]
  },
  {
   "cell_type": "markdown",
   "metadata": {},
   "source": [
    "Finally, we just need a function that spits out our results. (This function can be expanded upon later)"
   ]
  },
  {
   "cell_type": "code",
   "execution_count": null,
   "metadata": {
    "collapsed": false
   },
   "outputs": [],
   "source": [
    "def printResults(botlist, q=None):\n",
    "    winlist = [i.getScore()[1] for i in botlist]\n",
    "    scorelist = [i.getScore()[0] for i in botlist]\n",
    "    names = [i.getName() for i in botlist]\n",
    "    \n",
    "    wsort = np.argsort(np.array(winlist)*-1)\n",
    "    ssort = np.argsort(np.array(scorelist)*-1)\n",
    "    \n",
    "    t = len(botlist) if len(botlist) < 10 else 10\n",
    "    \n",
    "    print(\"Ranked results ordered by average wins\")\n",
    "    print(\"Rank AvgWins AvgScore BotName\")\n",
    "    for i in range(t):\n",
    "        print(\" {:2d}    {:.2f}    {:.2f}   {}\".format(i+1,winlist[wsort[i]],scorelist[wsort[i]],names[wsort[i]]))\n",
    "    print(\"Ranked results ordered by average score\")  \n",
    "    print(\"Rank AvgScore AvgWins BotName\")\n",
    "    for i in range(t):\n",
    "        print(\" {:2d}    {:.2f}    {:.2f}   {}\".format(i+1,winlist[ssort[i]],scorelist[ssort[i]],names[ssort[i]]))\n",
    "        \n",
    "    if q:\n",
    "        print(\"********************\")\n",
    "        print(\"RESULT OF YOUR BOT:\")  \n",
    "        print(\"********************\")\n",
    "        print(\"RankWins AvgWins RankScores AvgScores BotName\")\n",
    "        print(\" {:2d}        {:.2f}      {}         {:.2f}   {}\".format(np.argmax(wsort)+1,winlist[-1],np.argmax(ssort)+1,scorelist[-1],names[-1]))"
   ]
  },
  {
   "cell_type": "markdown",
   "metadata": {},
   "source": [
    "And we might want some sort of progress bar to get some feeling of how quick this is. Not actually used atm."
   ]
  },
  {
   "cell_type": "code",
   "execution_count": null,
   "metadata": {
    "collapsed": false
   },
   "outputs": [],
   "source": [
    "def prog(a,b):\n",
    "    bar_width = 40\n",
    "    c = bar_width * a / b\n",
    "    l = bar_width - c\n",
    "    print('\\r' + u\"\\u2588\" * int(c) + '-' * int(l))"
   ]
  },
  {
   "cell_type": "markdown",
   "metadata": {},
   "source": [
    "## Now we can prep everything, but first we need some basic inputs"
   ]
  },
  {
   "cell_type": "markdown",
   "metadata": {},
   "source": [
    "We need to know the following: how many number of bots in the original batch (n), how many rounds to play in a matchup (r), how many matchups (m), and the payoff matrix (pom). Fill in the numbers below, then press ***run cell*** or ***ctrl + enter***\n",
    "Note about payoff matrices. They work like this: each player has x number of actions, here steal or deal. That makes a 2x2 matrix. In each cell, there are the payoffs for bot 1 and bot 2, respectively, if the bots choose the corresponding actions. In the example below, if both steal, both get 1 score each. If bot B steals, and bot A deals, bot B gets 5, and bot A gets 0, and so forth."
   ]
  },
  {
   "cell_type": "code",
   "execution_count": null,
   "metadata": {
    "collapsed": true
   },
   "outputs": [],
   "source": [
    "n = 300 # number of bots\n",
    "r = 90 # rounds to play\n",
    "m = 2000 # number of matchups to start with\n",
    "mp = 500 # number of matchups for custom bots later\n",
    "\n",
    " # BOT B - STEAL - DEAL\n",
    "pom =    [[[1,1] , [5,0]], # BOT A STEAL\n",
    "          [[0,5] , [3,3]]] # BOT A DEAL  "
   ]
  },
  {
   "cell_type": "markdown",
   "metadata": {},
   "source": [
    "If you remembered to do ***run cell*** / ***ctrl + enter*** on the previous cell (you can check that by seeing that the ln [x]: updates by one each time you do it), we can now do the same on the next section. This might take some time depending on what values you used in the previous cell."
   ]
  },
  {
   "cell_type": "code",
   "execution_count": null,
   "metadata": {
    "collapsed": false
   },
   "outputs": [],
   "source": [
    "botlist = [bot(randParams()) for i in range(n)] # Creating the botlist\n",
    "f = FloatProgress(min=0, max=m) # Progress bar\n",
    "display(f)\n",
    "for i in range(m):\n",
    "    sel = select(botlist)\n",
    "    game(sel[0],sel[1],r,pom)\n",
    "    f.value = i"
   ]
  },
  {
   "cell_type": "markdown",
   "metadata": {},
   "source": [
    "Now everything should be ready for FUN TIMES!"
   ]
  },
  {
   "cell_type": "markdown",
   "metadata": {},
   "source": [
    "# Now let's make bots, add them to the list, and let them compete against the field."
   ]
  },
  {
   "cell_type": "markdown",
   "metadata": {},
   "source": [
    "### Note: each bot added will be in the field for later as well."
   ]
  },
  {
   "cell_type": "markdown",
   "metadata": {},
   "source": [
    "What you need to do is, fill in the values you want, then ***run cell*** / ***ctrl + enter***, and results should pop up with the position and score of your bot at the top of the output."
   ]
  },
  {
   "cell_type": "code",
   "execution_count": null,
   "metadata": {
    "collapsed": false
   },
   "outputs": [],
   "source": [
    "# Add your bot params here! Everything is in percentages, and unless otherwise noted, it's P(steal).\n",
    "params = {\"PC\": 100.0,   # Starting probability for STEAL\n",
    "          \"MS\": 70.0,  # Target probability for stealing, IF opponent STEALS all the time\n",
    "          \"LS\": 0.0,  # How quick PC goes to MS if opponent steals all the time, 0 = never, 100.00 = instantly\n",
    "          \"MD\": 20.0,  # Target probability for stealing, IF opponent DEALS all the time\n",
    "          \"LD\": 0.0,  # How quick PC goes to MD if opponent deals all the time, 0 = never, 100.00 = instantly\n",
    "          \"R\" : 0.0,   # How often the bot does the opposite of what it usually would do\n",
    "          \"name\": \"Stealer\" # This is the name. Normal string rules apply\n",
    "         }\n",
    "a = bot(params) # Creating your bot!\n",
    "\n",
    "f = FloatProgress(min=0, max=mp) # Progress bar\n",
    "display(f)\n",
    "for i in range(mp): # Letting your bot compete against a random selection of bots!\n",
    "    game(a,select(botlist)[0],r,pom)\n",
    "    f.value = i\n",
    "\n",
    "botlist.extend([a]) # Adding the bot to the list now that it's been initiated into the fun club\n",
    "print(\"AND HERE BE THE RANKED RESULTS!\")\n",
    "printResults(botlist,1)"
   ]
  },
  {
   "cell_type": "code",
   "execution_count": null,
   "metadata": {
    "collapsed": true
   },
   "outputs": [],
   "source": []
  }
 ],
 "metadata": {
  "anaconda-cloud": {},
  "kernelspec": {
   "display_name": "Python [conda root]",
   "language": "python",
   "name": "conda-root-py"
  },
  "language_info": {
   "codemirror_mode": {
    "name": "ipython",
    "version": 3
   },
   "file_extension": ".py",
   "mimetype": "text/x-python",
   "name": "python",
   "nbconvert_exporter": "python",
   "pygments_lexer": "ipython3",
   "version": "3.5.2"
  },
  "widgets": {
   "state": {
    "d2771a7f8c7a4ed9b7a37ede2a93e025": {
     "views": [
      {
       "cell_index": 19
      }
     ]
    },
    "d8f586b7f8a84885a8961943feda6e4f": {
     "views": [
      {
       "cell_index": 24
      }
     ]
    }
   },
   "version": "1.2.0"
  }
 },
 "nbformat": 4,
 "nbformat_minor": 1
}
